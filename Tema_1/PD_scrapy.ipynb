{
 "cells": [
  {
   "cell_type": "markdown",
   "metadata": {},
   "source": [
    "# Web scraping con Python"
   ]
  },
  {
   "cell_type": "markdown",
   "metadata": {},
   "source": [
    "El Web Scraping (o Scraping) son un conjunto de técnicas que se utilizan para obtener de forma automática el contenido que hay en páginas web a través de su código HTML."
   ]
  },
  {
   "cell_type": "markdown",
   "metadata": {},
   "source": [
    "## Búsqueda de tablas"
   ]
  },
  {
   "cell_type": "markdown",
   "metadata": {},
   "source": [
    "Pandas recorre un documento HTML en busca de elementos de tipo `<table>`. \n",
    "\n",
    "En el siguiente ejemplo, mostramos cómo extraer la información de la página web con URL \"https://es.wikipedia.org/wiki/Anexo:Municipios_de_la_Comunidad_de_Madrid\". Esta página muestra datos asociados a distintas localidades de la Comunidad de Madrid. Para poder acceder al código HTML de una página web es necesario realizar una petición usando el protocolo HTTP Request/Response.\n"
   ]
  },
  {
   "cell_type": "code",
   "execution_count": 1,
   "metadata": {
    "collapsed": false
   },
   "outputs": [],
   "source": [
    "import requests\n",
    "import pandas as pd\n",
    "\n",
    "url = \"https://es.wikipedia.org/wiki/Anexo:Municipios_de_la_Comunidad_de_Madrid\"\n",
    "respuesta = requests.get(url)\n"
   ]
  },
  {
   "cell_type": "markdown",
   "metadata": {},
   "source": [
    "Si la petición ha ido bien, podemos acceder al código HTML que contiene (puede no contener) tablas para importar."
   ]
  },
  {
   "cell_type": "code",
   "execution_count": 2,
   "metadata": {
    "collapsed": false
   },
   "outputs": [],
   "source": [
    "codigoHTML = respuesta.text\n",
    "lista_dataframes = pd.read_html(codigoHTML, header=0)"
   ]
  },
  {
   "cell_type": "code",
   "execution_count": 3,
   "metadata": {
    "collapsed": false
   },
   "outputs": [
    {
     "data": {
      "text/plain": [
       "1"
      ]
     },
     "execution_count": 3,
     "metadata": {},
     "output_type": "execute_result"
    }
   ],
   "source": [
    "len(lista_dataframes)"
   ]
  },
  {
   "cell_type": "code",
   "execution_count": 4,
   "metadata": {
    "collapsed": false
   },
   "outputs": [
    {
     "data": {
      "text/html": [
       "<div>\n",
       "<table border=\"1\" class=\"dataframe\">\n",
       "  <thead>\n",
       "    <tr style=\"text-align: right;\">\n",
       "      <th></th>\n",
       "      <th>Nombre</th>\n",
       "      <th>Población (2016)</th>\n",
       "      <th>Superficie (km²)[1]</th>\n",
       "      <th>Mapa</th>\n",
       "      <th>Escudo</th>\n",
       "      <th>Capitalidad[1]</th>\n",
       "      <th>Altitud (msnm)[a] [2]</th>\n",
       "    </tr>\n",
       "  </thead>\n",
       "  <tbody>\n",
       "    <tr>\n",
       "      <th>0</th>\n",
       "      <td>La Acebeda</td>\n",
       "      <td>66</td>\n",
       "      <td>2206</td>\n",
       "      <td>NaN</td>\n",
       "      <td>NaN</td>\n",
       "      <td>La Acebeda</td>\n",
       "      <td>1271</td>\n",
       "    </tr>\n",
       "    <tr>\n",
       "      <th>1</th>\n",
       "      <td>Ajalvir</td>\n",
       "      <td>4440</td>\n",
       "      <td>1962</td>\n",
       "      <td>NaN</td>\n",
       "      <td>NaN</td>\n",
       "      <td>Ajalvir</td>\n",
       "      <td>680</td>\n",
       "    </tr>\n",
       "    <tr>\n",
       "      <th>2</th>\n",
       "      <td>Alameda del Valle</td>\n",
       "      <td>208</td>\n",
       "      <td>2501</td>\n",
       "      <td>NaN</td>\n",
       "      <td>NaN</td>\n",
       "      <td>Alameda del Valle</td>\n",
       "      <td>1104</td>\n",
       "    </tr>\n",
       "    <tr>\n",
       "      <th>3</th>\n",
       "      <td>El Álamo</td>\n",
       "      <td>9017</td>\n",
       "      <td>2225</td>\n",
       "      <td>NaN</td>\n",
       "      <td>NaN</td>\n",
       "      <td>El Álamo</td>\n",
       "      <td>608</td>\n",
       "    </tr>\n",
       "    <tr>\n",
       "      <th>4</th>\n",
       "      <td>Alcalá de Henares</td>\n",
       "      <td>195 907</td>\n",
       "      <td>8772</td>\n",
       "      <td>NaN</td>\n",
       "      <td>NaN</td>\n",
       "      <td>Alcalá de Henares</td>\n",
       "      <td>587</td>\n",
       "    </tr>\n",
       "  </tbody>\n",
       "</table>\n",
       "</div>"
      ],
      "text/plain": [
       "              Nombre Población (2016)  Superficie (km²)[1]  Mapa  Escudo  \\\n",
       "0         La Acebeda               66                 2206   NaN     NaN   \n",
       "1            Ajalvir             4440                 1962   NaN     NaN   \n",
       "2  Alameda del Valle              208                 2501   NaN     NaN   \n",
       "3           El Álamo             9017                 2225   NaN     NaN   \n",
       "4  Alcalá de Henares          195 907                 8772   NaN     NaN   \n",
       "\n",
       "      Capitalidad[1]  Altitud (msnm)[a] [2]  \n",
       "0         La Acebeda                   1271  \n",
       "1            Ajalvir                    680  \n",
       "2  Alameda del Valle                   1104  \n",
       "3           El Álamo                    608  \n",
       "4  Alcalá de Henares                    587  "
      ]
     },
     "execution_count": 4,
     "metadata": {},
     "output_type": "execute_result"
    }
   ],
   "source": [
    "lista_dataframes[0].head()"
   ]
  },
  {
   "cell_type": "markdown",
   "metadata": {},
   "source": [
    "Como se puede observar, la función `pd.read_html` ignora todos los elementos contenidos en el documento HTML que no tengan nada que ver con tablas HTML."
   ]
  },
  {
   "cell_type": "markdown",
   "metadata": {},
   "source": [
    "## Otro tipo de búsquedas"
   ]
  },
  {
   "cell_type": "markdown",
   "metadata": {},
   "source": [
    "Si los datos que buscamos no están en una tabla HTML, podemos usar alguna de las librerías de Python que permiten parsear el texto HTML de forma cómoda.\n",
    "\n",
    "* BeautifullSoup \n",
    "* Scrapy\n",
    "* Selenium\n",
    "\n",
    "__BeautifulSoup__ nos aporta los métodos necesarios para obtener el contenido que hay entre las etiquetas HTML."
   ]
  },
  {
   "cell_type": "code",
   "execution_count": 5,
   "metadata": {
    "collapsed": false
   },
   "outputs": [],
   "source": [
    "from bs4 import BeautifulSoup\n",
    "import requests\n",
    "\n",
    "url = 'http://busqueda.libros.fnac.es/n710/Libros-mas-vendidos'\n",
    "codigoHTML = requests.get(url).text\n",
    "\n",
    "# Pasamos el contenido HTML de la web a un objeto BeautifulSoup()\n",
    "soup = BeautifulSoup(codigoHTML, 'html.parser')"
   ]
  },
  {
   "cell_type": "code",
   "execution_count": 6,
   "metadata": {
    "collapsed": false
   },
   "outputs": [],
   "source": [
    "# recuperamos la información de los títulos\n",
    "titulos = [e.attrs['alt'] for e in soup.find_all('img',{'class':'Article-itemVisual--type-0' })]"
   ]
  },
  {
   "cell_type": "code",
   "execution_count": 7,
   "metadata": {
    "collapsed": false
   },
   "outputs": [
    {
     "data": {
      "text/plain": [
       "['Patria',\n",
       " 'Norman y Mix',\n",
       " 'Más allá del invierno',\n",
       " 'Dragon Ball Serie roja nº 215/216']"
      ]
     },
     "execution_count": 7,
     "metadata": {},
     "output_type": "execute_result"
    }
   ],
   "source": [
    "titulos[:4]"
   ]
  },
  {
   "cell_type": "code",
   "execution_count": 11,
   "metadata": {
    "collapsed": false
   },
   "outputs": [],
   "source": [
    "# recuperamos la información de las imágenes\n",
    "imagenes = [e.attrs['data-lazyimage'] for e in soup.find_all('img',{'class':'Article-itemVisual--type-0' })]"
   ]
  },
  {
   "cell_type": "code",
   "execution_count": 9,
   "metadata": {
    "collapsed": false
   },
   "outputs": [
    {
     "data": {
      "text/plain": [
       "['http://static.fnac-static.com/multimedia/Images/ES/NR/4f/60/13/1269839/1535-1.jpg',\n",
       " 'http://static.fnac-static.com/multimedia/Images/ES/NR/9d/9a/14/1350301/1539-1.jpg',\n",
       " 'http://static.fnac-static.com/multimedia/Images/ES/NR/17/8a/14/1346071/1539-1.jpg',\n",
       " 'http://static.fnac-static.com/multimedia/Images/ES/NR/bb/c5/14/1361339/1539-1.jpg']"
      ]
     },
     "execution_count": 9,
     "metadata": {},
     "output_type": "execute_result"
    }
   ],
   "source": [
    "imagenes[:4]"
   ]
  },
  {
   "cell_type": "code",
   "execution_count": 10,
   "metadata": {
    "collapsed": false
   },
   "outputs": [
    {
     "data": {
      "text/html": [
       "<div>\n",
       "<table border=\"1\" class=\"dataframe\">\n",
       "  <thead>\n",
       "    <tr style=\"text-align: right;\">\n",
       "      <th></th>\n",
       "      <th>Título</th>\n",
       "      <th>imagenes</th>\n",
       "    </tr>\n",
       "  </thead>\n",
       "  <tbody>\n",
       "    <tr>\n",
       "      <th>0</th>\n",
       "      <td>Patria</td>\n",
       "      <td>http://static.fnac-static.com/multimedia/Image...</td>\n",
       "    </tr>\n",
       "    <tr>\n",
       "      <th>1</th>\n",
       "      <td>Norman y Mix</td>\n",
       "      <td>http://static.fnac-static.com/multimedia/Image...</td>\n",
       "    </tr>\n",
       "    <tr>\n",
       "      <th>2</th>\n",
       "      <td>Más allá del invierno</td>\n",
       "      <td>http://static.fnac-static.com/multimedia/Image...</td>\n",
       "    </tr>\n",
       "    <tr>\n",
       "      <th>3</th>\n",
       "      <td>Dragon Ball Serie roja nº 215/216</td>\n",
       "      <td>http://static.fnac-static.com/multimedia/Image...</td>\n",
       "    </tr>\n",
       "    <tr>\n",
       "      <th>4</th>\n",
       "      <td>Escrito en el agua</td>\n",
       "      <td>http://static.fnac-static.com/multimedia/Image...</td>\n",
       "    </tr>\n",
       "  </tbody>\n",
       "</table>\n",
       "</div>"
      ],
      "text/plain": [
       "                              Título  \\\n",
       "0                             Patria   \n",
       "1                       Norman y Mix   \n",
       "2              Más allá del invierno   \n",
       "3  Dragon Ball Serie roja nº 215/216   \n",
       "4                 Escrito en el agua   \n",
       "\n",
       "                                            imagenes  \n",
       "0  http://static.fnac-static.com/multimedia/Image...  \n",
       "1  http://static.fnac-static.com/multimedia/Image...  \n",
       "2  http://static.fnac-static.com/multimedia/Image...  \n",
       "3  http://static.fnac-static.com/multimedia/Image...  \n",
       "4  http://static.fnac-static.com/multimedia/Image...  "
      ]
     },
     "execution_count": 10,
     "metadata": {},
     "output_type": "execute_result"
    }
   ],
   "source": [
    "tabla = pd.DataFrame(list(zip(titulos,imagenes)),columns = ['Título', 'imagenes'])\n",
    "tabla.head()"
   ]
  },
  {
   "cell_type": "markdown",
   "metadata": {
    "collapsed": true
   },
   "source": [
    "-------------"
   ]
  }
 ],
 "metadata": {
  "anaconda-cloud": {},
  "kernelspec": {
   "display_name": "Python 3",
   "language": "python",
   "name": "python3"
  },
  "language_info": {
   "codemirror_mode": {
    "name": "ipython",
    "version": 3
   },
   "file_extension": ".py",
   "mimetype": "text/x-python",
   "name": "python",
   "nbconvert_exporter": "python",
   "pygments_lexer": "ipython3",
   "version": "3.6.0"
  },
  "toc": {
   "colors": {
    "hover_highlight": "#DAA520",
    "running_highlight": "#FF0000",
    "selected_highlight": "#FFD700"
   },
   "moveMenuLeft": true,
   "nav_menu": {
    "height": "321px",
    "width": "252px"
   },
   "navigate_menu": true,
   "number_sections": true,
   "sideBar": true,
   "threshold": 4,
   "toc_cell": false,
   "toc_position": {
    "height": "538px",
    "left": "0px",
    "right": "1021px",
    "top": "121px",
    "width": "345px"
   },
   "toc_section_display": "block",
   "toc_window_display": true,
   "widenNotebook": false
  }
 },
 "nbformat": 4,
 "nbformat_minor": 0
}
